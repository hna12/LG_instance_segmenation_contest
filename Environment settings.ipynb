{
  "nbformat": 4,
  "nbformat_minor": 0,
  "metadata": {
    "colab": {
      "name": "environment_setting.ipynb",
      "provenance": []
    },
    "kernelspec": {
      "name": "python3",
      "display_name": "Python 3"
    },
    "language_info": {
      "name": "python"
    }
  },
  "cells": [
    {
      "cell_type": "markdown",
      "metadata": {
        "id": "UeU86vHp4OVi"
      },
      "source": [
        "### pytorch 버전확인"
      ]
    },
    {
      "cell_type": "code",
      "execution_count": null,
      "metadata": {
        "colab": {
          "base_uri": "https://localhost:8080/",
          "height": 36
        },
        "id": "p87NqlMF3-17",
        "outputId": "4744e890-27fc-4db2-eb13-bb3f1443d15d"
      },
      "outputs": [
        {
          "output_type": "execute_result",
          "data": {
            "text/plain": [
              "'1.12.1+cu113'"
            ],
            "application/vnd.google.colaboratory.intrinsic+json": {
              "type": "string"
            }
          },
          "metadata": {},
          "execution_count": 2
        }
      ],
      "source": [
        "import torch\n",
        "import os\n",
        "torch.__version__"
      ]
    },
    {
      "cell_type": "markdown",
      "metadata": {
        "id": "Oy0_1bHVYz72"
      },
      "source": [
        "### mmdetection 폴더 생성 및 이동"
      ]
    },
    {
      "cell_type": "code",
      "execution_count": null,
      "metadata": {
        "id": "4HuyeN3cY4k0"
      },
      "outputs": [],
      "source": [
        "os.chdir('/content/')\n",
        "os.mkdir('lg_test')\n",
        "os.chdir('lg_test')"
      ]
    },
    {
      "cell_type": "code",
      "execution_count": null,
      "metadata": {
        "colab": {
          "base_uri": "https://localhost:8080/",
          "height": 36
        },
        "id": "iCNsGdpjZBWL",
        "outputId": "849c8610-c138-4d55-d26b-d0004e5a1960"
      },
      "outputs": [
        {
          "output_type": "execute_result",
          "data": {
            "text/plain": [
              "'/content/lg_test'"
            ],
            "application/vnd.google.colaboratory.intrinsic+json": {
              "type": "string"
            }
          },
          "metadata": {},
          "execution_count": 4
        }
      ],
      "source": [
        "# 폴더 이동\n",
        "os.getcwd()"
      ]
    },
    {
      "cell_type": "markdown",
      "metadata": {
        "id": "R7XPU-sQ4Scs"
      },
      "source": [
        "### mmdetection 설치"
      ]
    },
    {
      "cell_type": "code",
      "execution_count": null,
      "metadata": {
        "colab": {
          "base_uri": "https://localhost:8080/"
        },
        "id": "_UFsElTncdtH",
        "outputId": "6dc1aff3-b63c-4cfe-8c8a-3539ae7e4202"
      },
      "outputs": [
        {
          "output_type": "stream",
          "name": "stdout",
          "text": [
            "Looking in indexes: https://pypi.org/simple, https://us-python.pkg.dev/colab-wheels/public/simple/\n",
            "Looking in links: https://download.openmmlab.com/mmcv/dist/cu113/torch1.12.0/index.html\n",
            "Collecting mmcv-full==1.6.0\n",
            "  Downloading https://download.openmmlab.com/mmcv/dist/cu113/torch1.12.0/mmcv_full-1.6.0-cp37-cp37m-manylinux1_x86_64.whl (40.1 MB)\n",
            "\u001b[K     |████████████████████████████████| 40.1 MB 15.2 MB/s \n",
            "\u001b[?25hRequirement already satisfied: Pillow in /usr/local/lib/python3.7/dist-packages (from mmcv-full==1.6.0) (7.1.2)\n",
            "Collecting addict\n",
            "  Downloading addict-2.4.0-py3-none-any.whl (3.8 kB)\n",
            "Collecting yapf\n",
            "  Downloading yapf-0.32.0-py2.py3-none-any.whl (190 kB)\n",
            "\u001b[K     |████████████████████████████████| 190 kB 7.4 MB/s \n",
            "\u001b[?25hRequirement already satisfied: opencv-python>=3 in /usr/local/lib/python3.7/dist-packages (from mmcv-full==1.6.0) (4.6.0.66)\n",
            "Requirement already satisfied: packaging in /usr/local/lib/python3.7/dist-packages (from mmcv-full==1.6.0) (21.3)\n",
            "Requirement already satisfied: pyyaml in /usr/local/lib/python3.7/dist-packages (from mmcv-full==1.6.0) (3.13)\n",
            "Requirement already satisfied: numpy in /usr/local/lib/python3.7/dist-packages (from mmcv-full==1.6.0) (1.21.6)\n",
            "Requirement already satisfied: pyparsing!=3.0.5,>=2.0.2 in /usr/local/lib/python3.7/dist-packages (from packaging->mmcv-full==1.6.0) (3.0.9)\n",
            "Installing collected packages: yapf, addict, mmcv-full\n",
            "Successfully installed addict-2.4.0 mmcv-full-1.6.0 yapf-0.32.0\n",
            "Cloning into 'mmdetection'...\n",
            "remote: Enumerating objects: 29242, done.\u001b[K\n",
            "remote: Counting objects: 100% (111/111), done.\u001b[K\n",
            "remote: Compressing objects: 100% (96/96), done.\u001b[K\n",
            "remote: Total 29242 (delta 30), reused 46 (delta 15), pack-reused 29131\u001b[K\n",
            "Receiving objects: 100% (29242/29242), 39.66 MiB | 34.92 MiB/s, done.\n",
            "Resolving deltas: 100% (20888/20888), done.\n",
            "/content/lg_test/mmdetection\n",
            "Looking in indexes: https://pypi.org/simple, https://us-python.pkg.dev/colab-wheels/public/simple/\n",
            "Requirement already satisfied: cython in /usr/local/lib/python3.7/dist-packages (from -r requirements/build.txt (line 2)) (0.29.32)\n",
            "Requirement already satisfied: numpy in /usr/local/lib/python3.7/dist-packages (from -r requirements/build.txt (line 3)) (1.21.6)\n",
            "Using pip 21.1.3 from /usr/local/lib/python3.7/dist-packages/pip (python 3.7)\n",
            "Value for scheme.platlib does not match. Please report this to <https://github.com/pypa/pip/issues/9617>\n",
            "distutils: /usr/local/lib/python3.7/dist-packages\n",
            "sysconfig: /usr/lib/python3.7/site-packages\n",
            "Value for scheme.purelib does not match. Please report this to <https://github.com/pypa/pip/issues/9617>\n",
            "distutils: /usr/local/lib/python3.7/dist-packages\n",
            "sysconfig: /usr/lib/python3.7/site-packages\n",
            "Value for scheme.headers does not match. Please report this to <https://github.com/pypa/pip/issues/9617>\n",
            "distutils: /usr/local/include/python3.7/UNKNOWN\n",
            "sysconfig: /usr/include/python3.7m/UNKNOWN\n",
            "Value for scheme.scripts does not match. Please report this to <https://github.com/pypa/pip/issues/9617>\n",
            "distutils: /usr/local/bin\n",
            "sysconfig: /usr/bin\n",
            "Value for scheme.data does not match. Please report this to <https://github.com/pypa/pip/issues/9617>\n",
            "distutils: /usr/local\n",
            "sysconfig: /usr\n",
            "Additional context:\n",
            "user = False\n",
            "home = None\n",
            "root = None\n",
            "prefix = None\n",
            "Non-user install because site-packages writeable\n",
            "Created temporary directory: /tmp/pip-ephem-wheel-cache-kbhjgph_\n",
            "Created temporary directory: /tmp/pip-req-tracker-t9pxua4t\n",
            "Initialized build tracking at /tmp/pip-req-tracker-t9pxua4t\n",
            "Created build tracker: /tmp/pip-req-tracker-t9pxua4t\n",
            "Entered build tracker: /tmp/pip-req-tracker-t9pxua4t\n",
            "Created temporary directory: /tmp/pip-install-nlsukzao\n",
            "Looking in indexes: https://pypi.org/simple, https://us-python.pkg.dev/colab-wheels/public/simple/\n",
            "Obtaining file:///content/lg_test/mmdetection\n",
            "  Added file:///content/lg_test/mmdetection to build tracker '/tmp/pip-req-tracker-t9pxua4t'\n",
            "    Running setup.py (path:/content/lg_test/mmdetection/setup.py) egg_info for package from file:///content/lg_test/mmdetection\n",
            "    Created temporary directory: /tmp/pip-pip-egg-info-g1cgpded\n",
            "    Running command python setup.py egg_info\n",
            "    running egg_info\n",
            "    creating /tmp/pip-pip-egg-info-g1cgpded/mmdet.egg-info\n",
            "    writing /tmp/pip-pip-egg-info-g1cgpded/mmdet.egg-info/PKG-INFO\n",
            "    writing dependency_links to /tmp/pip-pip-egg-info-g1cgpded/mmdet.egg-info/dependency_links.txt\n",
            "    writing requirements to /tmp/pip-pip-egg-info-g1cgpded/mmdet.egg-info/requires.txt\n",
            "    writing top-level names to /tmp/pip-pip-egg-info-g1cgpded/mmdet.egg-info/top_level.txt\n",
            "    writing manifest file '/tmp/pip-pip-egg-info-g1cgpded/mmdet.egg-info/SOURCES.txt'\n",
            "    reading manifest template 'MANIFEST.in'\n",
            "    warning: no files found matching 'mmdet/VERSION'\n",
            "    warning: no files found matching 'mmdet/.mim/model-index.yml'\n",
            "    warning: no files found matching 'mmdet/.mim/demo/*/*'\n",
            "    warning: no files found matching '*.py' under directory 'mmdet/.mim/configs'\n",
            "    warning: no files found matching '*.yml' under directory 'mmdet/.mim/configs'\n",
            "    warning: no files found matching '*.sh' under directory 'mmdet/.mim/tools'\n",
            "    warning: no files found matching '*.py' under directory 'mmdet/.mim/tools'\n",
            "    adding license file 'LICENSE'\n",
            "    writing manifest file '/tmp/pip-pip-egg-info-g1cgpded/mmdet.egg-info/SOURCES.txt'\n",
            "  Source in /content/lg_test/mmdetection has version 2.25.1, which satisfies requirement mmdet==2.25.1 from file:///content/lg_test/mmdetection\n",
            "  Removed mmdet==2.25.1 from file:///content/lg_test/mmdetection from build tracker '/tmp/pip-req-tracker-t9pxua4t'\n",
            "Requirement already satisfied: matplotlib in /usr/local/lib/python3.7/dist-packages (from mmdet==2.25.1) (3.2.2)\n",
            "Requirement already satisfied: numpy in /usr/local/lib/python3.7/dist-packages (from mmdet==2.25.1) (1.21.6)\n",
            "Requirement already satisfied: pycocotools in /usr/local/lib/python3.7/dist-packages (from mmdet==2.25.1) (2.0.4)\n",
            "Requirement already satisfied: six in /usr/local/lib/python3.7/dist-packages (from mmdet==2.25.1) (1.15.0)\n",
            "2 location(s) to search for versions of terminaltables:\n",
            "* https://pypi.org/simple/terminaltables/\n",
            "* https://us-python.pkg.dev/colab-wheels/public/simple/terminaltables/\n",
            "Fetching project page and analyzing links: https://pypi.org/simple/terminaltables/\n",
            "Getting page https://pypi.org/simple/terminaltables/\n",
            "Found index url https://pypi.org/simple\n",
            "Looking up \"https://pypi.org/simple/terminaltables/\" in the cache\n",
            "Request header has \"max_age\" as 0, cache bypassed\n",
            "Starting new HTTPS connection (1): pypi.org:443\n",
            "https://pypi.org:443 \"GET /simple/terminaltables/ HTTP/1.1\" 200 2271\n",
            "Updating cache with response from \"https://pypi.org/simple/terminaltables/\"\n",
            "Caching due to etag\n",
            "  Found link https://files.pythonhosted.org/packages/ec/82/6390ba7f110622d27b02451aaa294dc4b3133b7661e464db9a116e977324/terminaltables-1.0.0.tar.gz#sha256=4c909a5ee4a3d028b2c977d996f8b8cd9724ce8e4d9d834d65e78a98f7965b54 (from https://pypi.org/simple/terminaltables/), version: 1.0.0\n",
            "  Found link https://files.pythonhosted.org/packages/97/65/858bc3ea6cc60edc959ce427a94227932b5d9a95b0bce82f16071419885c/terminaltables-1.0.1.tar.gz#sha256=5548ac567d38d6ac88a5e0fec2d95f646249f37e1ef8fd2d17f8fcaefc6cf592 (from https://pypi.org/simple/terminaltables/), version: 1.0.1\n",
            "  Found link https://files.pythonhosted.org/packages/82/42/3f1140f6e538582fd514c765244662cca60885048cf610e7d00eaee8aeb1/terminaltables-1.0.2.tar.gz#sha256=cf97dd019af975cc64aa69aca435a43b0cffabb88df6f337c6b48de600c19f8e (from https://pypi.org/simple/terminaltables/), version: 1.0.2\n",
            "  Found link https://files.pythonhosted.org/packages/80/07/5663569dfd8fa4e4fa3cb645b70f4972e3d79d056b71da12df174668c145/terminaltables-1.1.0.tar.gz#sha256=94a15e1a295265d130de67e9c2efef9e1cad1e64dd6ae0b80882076581605f8c (from https://pypi.org/simple/terminaltables/), version: 1.1.0\n",
            "  Found link https://files.pythonhosted.org/packages/0c/4a/9b80642ac2463908fe77c9dbe138c56902fbf5a5a95d07203c131ec9ba90/terminaltables-1.1.1.tar.gz#sha256=b02c516d6d521ce0fe6e2a2753268e86547bbccab6bfa7e269a0f51766283fab (from https://pypi.org/simple/terminaltables/), version: 1.1.1\n",
            "  Found link https://files.pythonhosted.org/packages/a8/65/f9c6bcfb1f81acdfcd1f8d633c6752cfdcc04b5fade7638a2a8dc7a720de/terminaltables-1.2.0.tar.gz#sha256=fff4aa62f296038d1526a91856f0b3de1e3bce31cfd1c5148cc3f795c1d396bf (from https://pypi.org/simple/terminaltables/), version: 1.2.0\n",
            "  Found link https://files.pythonhosted.org/packages/3d/17/14aa6521b337be46c51dd7b31e7e617801e9f8db7f48583c767c02e0e72a/terminaltables-1.2.1.tar.gz#sha256=cf5f0fb6c6c3070d7af73537ded030858c122f253c87e7221f9a6da3782ce787 (from https://pypi.org/simple/terminaltables/), version: 1.2.1\n",
            "  Found link https://files.pythonhosted.org/packages/d0/8e/9403573ff8aebc09ee0aacd57885050f74bd9f48a85c0735d33cacfa2469/terminaltables-2.0.0.tar.gz#sha256=2e0a6688071f2a881f8fa4455a362457dcd2317e374609f1a09baffa998e7492 (from https://pypi.org/simple/terminaltables/), version: 2.0.0\n",
            "  Found link https://files.pythonhosted.org/packages/10/da/9bbb21c1c2f9be4df2056b00b569689b9ece538ef39bf8db34be25f9e850/terminaltables-2.1.0.tar.gz#sha256=33b60f027964214f4ff5821f43958d03add81784f7c183d86a7ee8f010350cf5 (from https://pypi.org/simple/terminaltables/), version: 2.1.0\n",
            "  Found link https://files.pythonhosted.org/packages/58/c9/f0c174c4e828365df3593c66ac32474cd994a8ec36fe19a798261c96c3bc/terminaltables-3.0.0.tar.gz#sha256=bd2504031f09f942a8f221266adc61aee04a0368d5de0dacb7a53e508af6a518 (from https://pypi.org/simple/terminaltables/), version: 3.0.0\n",
            "  Found link https://files.pythonhosted.org/packages/9b/c4/4a21174f32f8a7e1104798c445dacdc1d4df86f2f26722767034e4de4bff/terminaltables-3.1.0.tar.gz#sha256=f3eb0eb92e3833972ac36796293ca0906e998dc3be91fbe1f8615b331b853b81 (from https://pypi.org/simple/terminaltables/), version: 3.1.0\n",
            "  Found link https://files.pythonhosted.org/packages/d7/9f/f0f648fd548373d641af6c820f0232c10aa46a64827a3828173d37cdef31/terminaltables-3.1.5-py2.py3-none-any.whl#sha256=fba86b91d3f4b212d48b50323f2979a8d6b366a59a7707200711bb59b0ee8d90 (from https://pypi.org/simple/terminaltables/) (requires-python:>=2.6), version: 3.1.5\n",
            "  Found link https://files.pythonhosted.org/packages/5a/16/dd906e12ee828fe64da455decb078bb25b06cf80f9f626ca21d278b867b6/terminaltables-3.1.6-py2.py3-none-any.whl#sha256=bb670016abe42d57c64a5dbae654ff07786b4dbab0a9bfb5858759bf03f06a4b (from https://pypi.org/simple/terminaltables/) (requires-python:>=2.6), version: 3.1.6\n",
            "  Found link https://files.pythonhosted.org/packages/cf/55/c0f3ea1e5d20d3da27bfaa5902edfd7477793bb4d7bd846ecc28e2f8dd98/terminaltables-3.1.6.tar.gz#sha256=205ffea11d84956889851560874268693adaf08e02f942ad2fbbc08fcab18ebb (from https://pypi.org/simple/terminaltables/) (requires-python:>=2.6), version: 3.1.6\n",
            "  Found link https://files.pythonhosted.org/packages/1e/d0/663ada6aea1ed17d9b9c22a896d1fbecfff24c4e0abe6e7e212443b12499/terminaltables-3.1.7-py2.py3-none-any.whl#sha256=18ba14fdfbc6a6d7dcf65aa0871a5dbea81d7d324ecfad8dc8c2f94b3efb4f2e (from https://pypi.org/simple/terminaltables/) (requires-python:>=2.6), version: 3.1.7\n",
            "  Found link https://files.pythonhosted.org/packages/b0/6d/19ab8dd9b85b804e4d90fba678156bf4f3dcc04935edbfb5ff8ebcec5199/terminaltables-3.1.7.tar.gz#sha256=5dab2f33927c0a020b8011c81b92830ff9fd4ba701657da5d7bfdc41048360a6 (from https://pypi.org/simple/terminaltables/) (requires-python:>=2.6), version: 3.1.7\n",
            "  Found link https://files.pythonhosted.org/packages/6f/6b/ad2cbd9bb0341479a5f77f6b97a42792b2fdfc2d33ac07fbbacabaa3c5a3/terminaltables-3.1.8-py2.py3-none-any.whl#sha256=383916b5a203e6ac754ffbc18084a4988ef0746d7d754afd9f1188c3c003e399 (from https://pypi.org/simple/terminaltables/) (requires-python:>=2.6), version: 3.1.8\n",
            "  Found link https://files.pythonhosted.org/packages/95/a5/2b63645cc40dfcb7686725b9ed7c4b016df09eb2dbc7329f2d55742ad015/terminaltables-3.1.8.tar.gz#sha256=86ec4e5e439c17c0c097e3723346fda87b151bbb526afa2c5236016b27b70f3d (from https://pypi.org/simple/terminaltables/) (requires-python:>=2.6), version: 3.1.8\n",
            "  Found link https://files.pythonhosted.org/packages/d3/49/799fcba07ca12a3b6cb141ac744755306a7d7b6e7d580f08388d2b64a00b/terminaltables-3.1.9-py2.py3-none-any.whl#sha256=b4b149ad5c0de74269573dc55f205b6196efe905565fac009724e506d42ea365 (from https://pypi.org/simple/terminaltables/) (requires-python:>=2.6), version: 3.1.9\n",
            "  Found link https://files.pythonhosted.org/packages/c9/f8/3437904b3e5b4f050f1dc254c0eee706df6ff25098cf5b759a33da94a506/terminaltables-3.1.9.tar.gz#sha256=df28eedd73431283c59c44ebdfaefa6c4905e3d1704a4c2eaf692046efcb6774 (from https://pypi.org/simple/terminaltables/) (requires-python:>=2.6), version: 3.1.9\n",
            "  Found link https://files.pythonhosted.org/packages/c4/fb/ea621e0a19733e01fe4005d46087d383693c0f4a8f824b47d8d4122c87e0/terminaltables-3.1.10-py2.py3-none-any.whl#sha256=e4fdc4179c9e4aab5f674d80f09d76fa436b96fdc698a8505e0a36bf0804a874 (from https://pypi.org/simple/terminaltables/) (requires-python:>=2.6), version: 3.1.10\n",
            "  Found link https://files.pythonhosted.org/packages/f5/fc/0b73d782f5ab7feba8d007573a3773c58255f223c5940a7b7085f02153c3/terminaltables-3.1.10.tar.gz#sha256=ba6eca5cb5ba02bba4c9f4f985af80c54ec3dccf94cfcd190154386255e47543 (from https://pypi.org/simple/terminaltables/) (requires-python:>=2.6), version: 3.1.10\n",
            "Fetching project page and analyzing links: https://us-python.pkg.dev/colab-wheels/public/simple/terminaltables/\n",
            "Getting page https://us-python.pkg.dev/colab-wheels/public/simple/terminaltables/\n",
            "Found index url https://us-python.pkg.dev/colab-wheels/public/simple/\n",
            "Looking up \"https://us-python.pkg.dev/colab-wheels/public/simple/terminaltables/\" in the cache\n",
            "Request header has \"max_age\" as 0, cache bypassed\n",
            "Starting new HTTPS connection (1): us-python.pkg.dev:443\n",
            "https://us-python.pkg.dev:443 \"GET /colab-wheels/public/simple/terminaltables/ HTTP/1.1\" 404 32\n",
            "Status code 404 not in (200, 203, 300, 301)\n",
            "Could not fetch URL https://us-python.pkg.dev/colab-wheels/public/simple/terminaltables/: 404 Client Error: Not Found for url: https://us-python.pkg.dev/colab-wheels/public/simple/terminaltables/ - skipping\n",
            "Skipping link: not a file: https://us-python.pkg.dev/colab-wheels/public/simple/terminaltables/\n",
            "Skipping link: not a file: https://pypi.org/simple/terminaltables/\n",
            "Given no hashes to check 22 links for project 'terminaltables': discarding no candidates\n",
            "Collecting terminaltables\n",
            "  Created temporary directory: /tmp/pip-unpack-56wgr8i6\n",
            "  Looking up \"https://files.pythonhosted.org/packages/c4/fb/ea621e0a19733e01fe4005d46087d383693c0f4a8f824b47d8d4122c87e0/terminaltables-3.1.10-py2.py3-none-any.whl\" in the cache\n",
            "  No cache entry available\n",
            "  Starting new HTTPS connection (1): files.pythonhosted.org:443\n",
            "  https://files.pythonhosted.org:443 \"GET /packages/c4/fb/ea621e0a19733e01fe4005d46087d383693c0f4a8f824b47d8d4122c87e0/terminaltables-3.1.10-py2.py3-none-any.whl HTTP/1.1\" 200 15155\n",
            "  Downloading terminaltables-3.1.10-py2.py3-none-any.whl (15 kB)\n",
            "  Ignoring unknown cache-control directive: immutable\n",
            "  Updating cache with response from \"https://files.pythonhosted.org/packages/c4/fb/ea621e0a19733e01fe4005d46087d383693c0f4a8f824b47d8d4122c87e0/terminaltables-3.1.10-py2.py3-none-any.whl\"\n",
            "  Caching due to etag\n",
            "  Added terminaltables from https://files.pythonhosted.org/packages/c4/fb/ea621e0a19733e01fe4005d46087d383693c0f4a8f824b47d8d4122c87e0/terminaltables-3.1.10-py2.py3-none-any.whl#sha256=e4fdc4179c9e4aab5f674d80f09d76fa436b96fdc698a8505e0a36bf0804a874 (from mmdet==2.25.1) to build tracker '/tmp/pip-req-tracker-t9pxua4t'\n",
            "  Removed terminaltables from https://files.pythonhosted.org/packages/c4/fb/ea621e0a19733e01fe4005d46087d383693c0f4a8f824b47d8d4122c87e0/terminaltables-3.1.10-py2.py3-none-any.whl#sha256=e4fdc4179c9e4aab5f674d80f09d76fa436b96fdc698a8505e0a36bf0804a874 (from mmdet==2.25.1) from build tracker '/tmp/pip-req-tracker-t9pxua4t'\n",
            "Requirement already satisfied: pyparsing!=2.0.4,!=2.1.2,!=2.1.6,>=2.0.1 in /usr/local/lib/python3.7/dist-packages (from matplotlib->mmdet==2.25.1) (3.0.9)\n",
            "Requirement already satisfied: cycler>=0.10 in /usr/local/lib/python3.7/dist-packages (from matplotlib->mmdet==2.25.1) (0.11.0)\n",
            "Requirement already satisfied: kiwisolver>=1.0.1 in /usr/local/lib/python3.7/dist-packages (from matplotlib->mmdet==2.25.1) (1.4.4)\n",
            "Requirement already satisfied: python-dateutil>=2.1 in /usr/local/lib/python3.7/dist-packages (from matplotlib->mmdet==2.25.1) (2.8.2)\n",
            "Requirement already satisfied: typing-extensions in /usr/local/lib/python3.7/dist-packages (from kiwisolver>=1.0.1->matplotlib->mmdet==2.25.1) (4.1.1)\n",
            "Created temporary directory: /tmp/pip-unpack-yfhc6xar\n",
            "Installing collected packages: terminaltables, mmdet\n",
            "  Value for scheme.platlib does not match. Please report this to <https://github.com/pypa/pip/issues/9617>\n",
            "  distutils: /usr/local/lib/python3.7/dist-packages\n",
            "  sysconfig: /usr/lib/python3.7/site-packages\n",
            "  Value for scheme.purelib does not match. Please report this to <https://github.com/pypa/pip/issues/9617>\n",
            "  distutils: /usr/local/lib/python3.7/dist-packages\n",
            "  sysconfig: /usr/lib/python3.7/site-packages\n",
            "  Value for scheme.headers does not match. Please report this to <https://github.com/pypa/pip/issues/9617>\n",
            "  distutils: /usr/local/include/python3.7/terminaltables\n",
            "  sysconfig: /usr/include/python3.7m/terminaltables\n",
            "  Value for scheme.scripts does not match. Please report this to <https://github.com/pypa/pip/issues/9617>\n",
            "  distutils: /usr/local/bin\n",
            "  sysconfig: /usr/bin\n",
            "  Value for scheme.data does not match. Please report this to <https://github.com/pypa/pip/issues/9617>\n",
            "  distutils: /usr/local\n",
            "  sysconfig: /usr\n",
            "  Additional context:\n",
            "  user = False\n",
            "  home = None\n",
            "  root = None\n",
            "  prefix = None\n",
            "\n",
            "  Value for scheme.platlib does not match. Please report this to <https://github.com/pypa/pip/issues/9617>\n",
            "  distutils: /usr/local/lib/python3.7/dist-packages\n",
            "  sysconfig: /usr/lib/python3.7/site-packages\n",
            "  Value for scheme.purelib does not match. Please report this to <https://github.com/pypa/pip/issues/9617>\n",
            "  distutils: /usr/local/lib/python3.7/dist-packages\n",
            "  sysconfig: /usr/lib/python3.7/site-packages\n",
            "  Value for scheme.headers does not match. Please report this to <https://github.com/pypa/pip/issues/9617>\n",
            "  distutils: /usr/local/include/python3.7/mmdet\n",
            "  sysconfig: /usr/include/python3.7m/mmdet\n",
            "  Value for scheme.scripts does not match. Please report this to <https://github.com/pypa/pip/issues/9617>\n",
            "  distutils: /usr/local/bin\n",
            "  sysconfig: /usr/bin\n",
            "  Value for scheme.data does not match. Please report this to <https://github.com/pypa/pip/issues/9617>\n",
            "  distutils: /usr/local\n",
            "  sysconfig: /usr\n",
            "  Additional context:\n",
            "  user = False\n",
            "  home = None\n",
            "  root = None\n",
            "  prefix = None\n",
            "  Running setup.py develop for mmdet\n",
            "    Running command /usr/bin/python3 -c 'import io, os, sys, setuptools, tokenize; sys.argv[0] = '\"'\"'/content/lg_test/mmdetection/setup.py'\"'\"'; __file__='\"'\"'/content/lg_test/mmdetection/setup.py'\"'\"';f = getattr(tokenize, '\"'\"'open'\"'\"', open)(__file__) if os.path.exists(__file__) else io.StringIO('\"'\"'from setuptools import setup; setup()'\"'\"');code = f.read().replace('\"'\"'\\r\\n'\"'\"', '\"'\"'\\n'\"'\"');f.close();exec(compile(code, __file__, '\"'\"'exec'\"'\"'))' develop --no-deps\n",
            "    running develop\n",
            "    running egg_info\n",
            "    creating mmdet.egg-info\n",
            "    writing mmdet.egg-info/PKG-INFO\n",
            "    writing dependency_links to mmdet.egg-info/dependency_links.txt\n",
            "    writing requirements to mmdet.egg-info/requires.txt\n",
            "    writing top-level names to mmdet.egg-info/top_level.txt\n",
            "    writing manifest file 'mmdet.egg-info/SOURCES.txt'\n",
            "    reading manifest template 'MANIFEST.in'\n",
            "    warning: no files found matching 'mmdet/VERSION'\n",
            "    warning: no files found matching 'mmdet/.mim/demo/*/*'\n",
            "    adding license file 'LICENSE'\n",
            "    writing manifest file 'mmdet.egg-info/SOURCES.txt'\n",
            "    running build_ext\n",
            "    Creating /usr/local/lib/python3.7/dist-packages/mmdet.egg-link (link to .)\n",
            "    Adding mmdet 2.25.1 to easy-install.pth file\n",
            "\n",
            "    Installed /content/lg_test/mmdetection\n",
            "    /usr/local/lib/python3.7/dist-packages/torch/utils/cpp_extension.py:411: UserWarning: Attempted to use ninja as the BuildExtension backend but we could not find ninja.. Falling back to using the slow distutils backend.\n",
            "      warnings.warn(msg.format('we could not find ninja.'))\n",
            "Value for scheme.platlib does not match. Please report this to <https://github.com/pypa/pip/issues/9617>\n",
            "distutils: /usr/local/lib/python3.7/dist-packages\n",
            "sysconfig: /usr/lib/python3.7/site-packages\n",
            "Value for scheme.purelib does not match. Please report this to <https://github.com/pypa/pip/issues/9617>\n",
            "distutils: /usr/local/lib/python3.7/dist-packages\n",
            "sysconfig: /usr/lib/python3.7/site-packages\n",
            "Value for scheme.headers does not match. Please report this to <https://github.com/pypa/pip/issues/9617>\n",
            "distutils: /usr/local/include/python3.7/UNKNOWN\n",
            "sysconfig: /usr/include/python3.7m/UNKNOWN\n",
            "Value for scheme.scripts does not match. Please report this to <https://github.com/pypa/pip/issues/9617>\n",
            "distutils: /usr/local/bin\n",
            "sysconfig: /usr/bin\n",
            "Value for scheme.data does not match. Please report this to <https://github.com/pypa/pip/issues/9617>\n",
            "distutils: /usr/local\n",
            "sysconfig: /usr\n",
            "Additional context:\n",
            "user = False\n",
            "home = None\n",
            "root = None\n",
            "prefix = None\n",
            "Successfully installed mmdet-2.25.1 terminaltables-3.1.10\n",
            "Removed build tracker: '/tmp/pip-req-tracker-t9pxua4t'\n",
            "Looking in indexes: https://pypi.org/simple, https://us-python.pkg.dev/colab-wheels/public/simple/\n",
            "Requirement already satisfied: mmdet in /content/lg_test/mmdetection (2.25.1)\n",
            "Requirement already satisfied: matplotlib in /usr/local/lib/python3.7/dist-packages (from mmdet) (3.2.2)\n",
            "Requirement already satisfied: numpy in /usr/local/lib/python3.7/dist-packages (from mmdet) (1.21.6)\n",
            "Requirement already satisfied: pycocotools in /usr/local/lib/python3.7/dist-packages (from mmdet) (2.0.4)\n",
            "Requirement already satisfied: six in /usr/local/lib/python3.7/dist-packages (from mmdet) (1.15.0)\n",
            "Requirement already satisfied: terminaltables in /usr/local/lib/python3.7/dist-packages (from mmdet) (3.1.10)\n",
            "Requirement already satisfied: kiwisolver>=1.0.1 in /usr/local/lib/python3.7/dist-packages (from matplotlib->mmdet) (1.4.4)\n",
            "Requirement already satisfied: pyparsing!=2.0.4,!=2.1.2,!=2.1.6,>=2.0.1 in /usr/local/lib/python3.7/dist-packages (from matplotlib->mmdet) (3.0.9)\n",
            "Requirement already satisfied: cycler>=0.10 in /usr/local/lib/python3.7/dist-packages (from matplotlib->mmdet) (0.11.0)\n",
            "Requirement already satisfied: python-dateutil>=2.1 in /usr/local/lib/python3.7/dist-packages (from matplotlib->mmdet) (2.8.2)\n",
            "Requirement already satisfied: typing-extensions in /usr/local/lib/python3.7/dist-packages (from kiwisolver>=1.0.1->matplotlib->mmdet) (4.1.1)\n"
          ]
        }
      ],
      "source": [
        "!pip install mmcv-full==1.6.0 -f https://download.openmmlab.com/mmcv/dist/cu113/torch1.12.0/index.html \n",
        "!git clone https://github.com/open-mmlab/mmdetection.git\n",
        "%cd mmdetection\n",
        "!pip install -r requirements/build.txt\n",
        "!pip install -v -e .\n",
        "!pip install mmdet"
      ]
    }
  ]
}